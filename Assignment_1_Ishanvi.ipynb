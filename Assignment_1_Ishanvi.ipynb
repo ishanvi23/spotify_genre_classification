{
  "cells": [
    {
      "cell_type": "markdown",
      "source": [
        "#Applied Data Science Assignment-1\n",
        "###Ishanvi Sharma\n",
        "###20BCE0394\n",
        "###VIT, Vellore"
      ],
      "metadata": {
        "id": "j6f3rK5ftiDl"
      },
      "id": "j6f3rK5ftiDl"
    },
    {
      "cell_type": "code",
      "execution_count": 16,
      "id": "11d7acc5",
      "metadata": {
        "id": "11d7acc5"
      },
      "outputs": [],
      "source": [
        "import numpy as np\n",
        "import pandas as pd"
      ]
    },
    {
      "cell_type": "markdown",
      "source": [
        "#####1. Assign your Name to variable name and Age to variable age. Make a Python program that prints your name and age"
      ],
      "metadata": {
        "id": "DmCcHMkqtzWh"
      },
      "id": "DmCcHMkqtzWh"
    },
    {
      "cell_type": "code",
      "execution_count": 17,
      "id": "02c7ac40",
      "metadata": {
        "colab": {
          "base_uri": "https://localhost:8080/"
        },
        "id": "02c7ac40",
        "outputId": "25a4ed30-d748-40db-ca16-ec9632ce50a8"
      },
      "outputs": [
        {
          "output_type": "stream",
          "name": "stdout",
          "text": [
            "Name: Ishanvi  and Age: 20\n"
          ]
        }
      ],
      "source": [
        "name='Ishanvi'\n",
        "age=20\n",
        "print(\"Name:\", name, \" and Age:\", age)"
      ]
    },
    {
      "cell_type": "markdown",
      "source": [
        "#####2. X=\"Datascience is used to extract meaningful insights.\" Split the string\n"
      ],
      "metadata": {
        "id": "y-vVmyF-t_SV"
      },
      "id": "y-vVmyF-t_SV"
    },
    {
      "cell_type": "code",
      "execution_count": 18,
      "id": "86f48f57",
      "metadata": {
        "colab": {
          "base_uri": "https://localhost:8080/"
        },
        "id": "86f48f57",
        "outputId": "eb828478-3e0b-4d07-cbe4-9cd9b8572625"
      },
      "outputs": [
        {
          "output_type": "execute_result",
          "data": {
            "text/plain": [
              "['Datascience', 'is', 'used', 'to', 'extract', 'meaningful', 'insights.']"
            ]
          },
          "metadata": {},
          "execution_count": 18
        }
      ],
      "source": [
        "X='Datascience is used to extract meaningful insights.'\n",
        "text=X.split()\n",
        "text"
      ]
    },
    {
      "cell_type": "markdown",
      "source": [
        "#####3. Make a function that gives multiplication of two numbers"
      ],
      "metadata": {
        "id": "ZkasrXs5uMko"
      },
      "id": "ZkasrXs5uMko"
    },
    {
      "cell_type": "code",
      "execution_count": 19,
      "id": "0b702b31",
      "metadata": {
        "colab": {
          "base_uri": "https://localhost:8080/"
        },
        "id": "0b702b31",
        "outputId": "123664bc-d6f3-419a-9098-0b79317d84c2"
      },
      "outputs": [
        {
          "output_type": "stream",
          "name": "stdout",
          "text": [
            "8\n"
          ]
        }
      ],
      "source": [
        "def mult(x,y):\n",
        "    z=x*y\n",
        "    print(z)\n",
        "\n",
        "mult(2,4)"
      ]
    },
    {
      "cell_type": "markdown",
      "source": [
        "#####4. Create a Dictionary of 5 States with their capitals. also print the keys and values.\n"
      ],
      "metadata": {
        "id": "TGM1Ys6vuhCx"
      },
      "id": "TGM1Ys6vuhCx"
    },
    {
      "cell_type": "code",
      "execution_count": 20,
      "id": "b93e1c24",
      "metadata": {
        "colab": {
          "base_uri": "https://localhost:8080/"
        },
        "id": "b93e1c24",
        "outputId": "4f2e2a6a-2cf8-4294-ff03-861a2fd7427e"
      },
      "outputs": [
        {
          "output_type": "execute_result",
          "data": {
            "text/plain": [
              "{'Rajasthan': 'Jaipur',\n",
              " 'Karnataka': 'Bengaluru',\n",
              " 'Gujarat': 'Gandhinagar',\n",
              " 'Assam': 'Dispur',\n",
              " 'Tamil Nadu': 'Chennai'}"
            ]
          },
          "metadata": {},
          "execution_count": 20
        }
      ],
      "source": [
        "dstates={'Rajasthan':'Jaipur','Karnataka':'Bengaluru','Gujarat':'Gandhinagar','Assam':'Dispur','Tamil Nadu':'Chennai'}\n",
        "dstates"
      ]
    },
    {
      "cell_type": "code",
      "execution_count": 21,
      "id": "819f8e3f",
      "metadata": {
        "colab": {
          "base_uri": "https://localhost:8080/"
        },
        "id": "819f8e3f",
        "outputId": "2fa7f5f6-e887-4aba-cd88-5ed99ae45906"
      },
      "outputs": [
        {
          "output_type": "execute_result",
          "data": {
            "text/plain": [
              "dict_keys(['Rajasthan', 'Karnataka', 'Gujarat', 'Assam', 'Tamil Nadu'])"
            ]
          },
          "metadata": {},
          "execution_count": 21
        }
      ],
      "source": [
        "dstates.keys()"
      ]
    },
    {
      "cell_type": "code",
      "execution_count": 22,
      "id": "926c99ed",
      "metadata": {
        "colab": {
          "base_uri": "https://localhost:8080/"
        },
        "id": "926c99ed",
        "outputId": "f592b341-b247-4b92-b9f2-c938ff4f5d1c"
      },
      "outputs": [
        {
          "output_type": "execute_result",
          "data": {
            "text/plain": [
              "dict_values(['Jaipur', 'Bengaluru', 'Gandhinagar', 'Dispur', 'Chennai'])"
            ]
          },
          "metadata": {},
          "execution_count": 22
        }
      ],
      "source": [
        "dstates.values()"
      ]
    },
    {
      "cell_type": "code",
      "execution_count": 23,
      "id": "c146da20",
      "metadata": {
        "colab": {
          "base_uri": "https://localhost:8080/"
        },
        "id": "c146da20",
        "outputId": "76f3a3f6-45fd-4d20-9628-12da30193165"
      },
      "outputs": [
        {
          "output_type": "stream",
          "name": "stdout",
          "text": [
            "Rajasthan --> Jaipur\n",
            "Karnataka --> Bengaluru\n",
            "Gujarat --> Gandhinagar\n",
            "Assam --> Dispur\n",
            "Tamil Nadu --> Chennai\n"
          ]
        }
      ],
      "source": [
        "for state, capital in dstates.items():\n",
        "  print(state, \"-->\", capital)"
      ]
    },
    {
      "cell_type": "markdown",
      "source": [
        "#####5. Create a list of 1000 numbers using range function.\n"
      ],
      "metadata": {
        "id": "SIjPVKDrvAMy"
      },
      "id": "SIjPVKDrvAMy"
    },
    {
      "cell_type": "code",
      "execution_count": 24,
      "id": "24491d07",
      "metadata": {
        "colab": {
          "base_uri": "https://localhost:8080/"
        },
        "id": "24491d07",
        "outputId": "7b6d524e-2a68-464f-cb7b-571955c8b5af"
      },
      "outputs": [
        {
          "output_type": "stream",
          "name": "stdout",
          "text": [
            "1000 numbers: [0, 1, 2, 3, 4, 5, 6, 7, 8, 9, 10, 11, 12, 13, 14, 15, 16, 17, 18, 19, 20, 21, 22, 23, 24, 25, 26, 27, 28, 29, 30, 31, 32, 33, 34, 35, 36, 37, 38, 39, 40, 41, 42, 43, 44, 45, 46, 47, 48, 49, 50, 51, 52, 53, 54, 55, 56, 57, 58, 59, 60, 61, 62, 63, 64, 65, 66, 67, 68, 69, 70, 71, 72, 73, 74, 75, 76, 77, 78, 79, 80, 81, 82, 83, 84, 85, 86, 87, 88, 89, 90, 91, 92, 93, 94, 95, 96, 97, 98, 99, 100, 101, 102, 103, 104, 105, 106, 107, 108, 109, 110, 111, 112, 113, 114, 115, 116, 117, 118, 119, 120, 121, 122, 123, 124, 125, 126, 127, 128, 129, 130, 131, 132, 133, 134, 135, 136, 137, 138, 139, 140, 141, 142, 143, 144, 145, 146, 147, 148, 149, 150, 151, 152, 153, 154, 155, 156, 157, 158, 159, 160, 161, 162, 163, 164, 165, 166, 167, 168, 169, 170, 171, 172, 173, 174, 175, 176, 177, 178, 179, 180, 181, 182, 183, 184, 185, 186, 187, 188, 189, 190, 191, 192, 193, 194, 195, 196, 197, 198, 199, 200, 201, 202, 203, 204, 205, 206, 207, 208, 209, 210, 211, 212, 213, 214, 215, 216, 217, 218, 219, 220, 221, 222, 223, 224, 225, 226, 227, 228, 229, 230, 231, 232, 233, 234, 235, 236, 237, 238, 239, 240, 241, 242, 243, 244, 245, 246, 247, 248, 249, 250, 251, 252, 253, 254, 255, 256, 257, 258, 259, 260, 261, 262, 263, 264, 265, 266, 267, 268, 269, 270, 271, 272, 273, 274, 275, 276, 277, 278, 279, 280, 281, 282, 283, 284, 285, 286, 287, 288, 289, 290, 291, 292, 293, 294, 295, 296, 297, 298, 299, 300, 301, 302, 303, 304, 305, 306, 307, 308, 309, 310, 311, 312, 313, 314, 315, 316, 317, 318, 319, 320, 321, 322, 323, 324, 325, 326, 327, 328, 329, 330, 331, 332, 333, 334, 335, 336, 337, 338, 339, 340, 341, 342, 343, 344, 345, 346, 347, 348, 349, 350, 351, 352, 353, 354, 355, 356, 357, 358, 359, 360, 361, 362, 363, 364, 365, 366, 367, 368, 369, 370, 371, 372, 373, 374, 375, 376, 377, 378, 379, 380, 381, 382, 383, 384, 385, 386, 387, 388, 389, 390, 391, 392, 393, 394, 395, 396, 397, 398, 399, 400, 401, 402, 403, 404, 405, 406, 407, 408, 409, 410, 411, 412, 413, 414, 415, 416, 417, 418, 419, 420, 421, 422, 423, 424, 425, 426, 427, 428, 429, 430, 431, 432, 433, 434, 435, 436, 437, 438, 439, 440, 441, 442, 443, 444, 445, 446, 447, 448, 449, 450, 451, 452, 453, 454, 455, 456, 457, 458, 459, 460, 461, 462, 463, 464, 465, 466, 467, 468, 469, 470, 471, 472, 473, 474, 475, 476, 477, 478, 479, 480, 481, 482, 483, 484, 485, 486, 487, 488, 489, 490, 491, 492, 493, 494, 495, 496, 497, 498, 499, 500, 501, 502, 503, 504, 505, 506, 507, 508, 509, 510, 511, 512, 513, 514, 515, 516, 517, 518, 519, 520, 521, 522, 523, 524, 525, 526, 527, 528, 529, 530, 531, 532, 533, 534, 535, 536, 537, 538, 539, 540, 541, 542, 543, 544, 545, 546, 547, 548, 549, 550, 551, 552, 553, 554, 555, 556, 557, 558, 559, 560, 561, 562, 563, 564, 565, 566, 567, 568, 569, 570, 571, 572, 573, 574, 575, 576, 577, 578, 579, 580, 581, 582, 583, 584, 585, 586, 587, 588, 589, 590, 591, 592, 593, 594, 595, 596, 597, 598, 599, 600, 601, 602, 603, 604, 605, 606, 607, 608, 609, 610, 611, 612, 613, 614, 615, 616, 617, 618, 619, 620, 621, 622, 623, 624, 625, 626, 627, 628, 629, 630, 631, 632, 633, 634, 635, 636, 637, 638, 639, 640, 641, 642, 643, 644, 645, 646, 647, 648, 649, 650, 651, 652, 653, 654, 655, 656, 657, 658, 659, 660, 661, 662, 663, 664, 665, 666, 667, 668, 669, 670, 671, 672, 673, 674, 675, 676, 677, 678, 679, 680, 681, 682, 683, 684, 685, 686, 687, 688, 689, 690, 691, 692, 693, 694, 695, 696, 697, 698, 699, 700, 701, 702, 703, 704, 705, 706, 707, 708, 709, 710, 711, 712, 713, 714, 715, 716, 717, 718, 719, 720, 721, 722, 723, 724, 725, 726, 727, 728, 729, 730, 731, 732, 733, 734, 735, 736, 737, 738, 739, 740, 741, 742, 743, 744, 745, 746, 747, 748, 749, 750, 751, 752, 753, 754, 755, 756, 757, 758, 759, 760, 761, 762, 763, 764, 765, 766, 767, 768, 769, 770, 771, 772, 773, 774, 775, 776, 777, 778, 779, 780, 781, 782, 783, 784, 785, 786, 787, 788, 789, 790, 791, 792, 793, 794, 795, 796, 797, 798, 799, 800, 801, 802, 803, 804, 805, 806, 807, 808, 809, 810, 811, 812, 813, 814, 815, 816, 817, 818, 819, 820, 821, 822, 823, 824, 825, 826, 827, 828, 829, 830, 831, 832, 833, 834, 835, 836, 837, 838, 839, 840, 841, 842, 843, 844, 845, 846, 847, 848, 849, 850, 851, 852, 853, 854, 855, 856, 857, 858, 859, 860, 861, 862, 863, 864, 865, 866, 867, 868, 869, 870, 871, 872, 873, 874, 875, 876, 877, 878, 879, 880, 881, 882, 883, 884, 885, 886, 887, 888, 889, 890, 891, 892, 893, 894, 895, 896, 897, 898, 899, 900, 901, 902, 903, 904, 905, 906, 907, 908, 909, 910, 911, 912, 913, 914, 915, 916, 917, 918, 919, 920, 921, 922, 923, 924, 925, 926, 927, 928, 929, 930, 931, 932, 933, 934, 935, 936, 937, 938, 939, 940, 941, 942, 943, 944, 945, 946, 947, 948, 949, 950, 951, 952, 953, 954, 955, 956, 957, 958, 959, 960, 961, 962, 963, 964, 965, 966, 967, 968, 969, 970, 971, 972, 973, 974, 975, 976, 977, 978, 979, 980, 981, 982, 983, 984, 985, 986, 987, 988, 989, 990, 991, 992, 993, 994, 995, 996, 997, 998, 999]\n"
          ]
        }
      ],
      "source": [
        "numbers = list(range(1000))\n",
        "print('1000 numbers:',numbers)"
      ]
    },
    {
      "cell_type": "markdown",
      "source": [
        "#####6. Create an identity matrix of dimension 4 by 4"
      ],
      "metadata": {
        "id": "Xw5tcw_RvT2e"
      },
      "id": "Xw5tcw_RvT2e"
    },
    {
      "cell_type": "code",
      "execution_count": 25,
      "id": "992c4cb0",
      "metadata": {
        "colab": {
          "base_uri": "https://localhost:8080/"
        },
        "id": "992c4cb0",
        "outputId": "f1d7a036-3ad8-446c-ae62-cc6e162b4daf"
      },
      "outputs": [
        {
          "output_type": "stream",
          "name": "stdout",
          "text": [
            "[[1. 0. 0. 0.]\n",
            " [0. 1. 0. 0.]\n",
            " [0. 0. 1. 0.]\n",
            " [0. 0. 0. 1.]]\n"
          ]
        }
      ],
      "source": [
        "I=np.eye(4)\n",
        "print(I)"
      ]
    },
    {
      "cell_type": "markdown",
      "source": [
        "#####7. Create a 3x3 matrix with values ranging from 1 to 9"
      ],
      "metadata": {
        "id": "z0AfG_pbveaW"
      },
      "id": "z0AfG_pbveaW"
    },
    {
      "cell_type": "code",
      "execution_count": 26,
      "id": "d9600bdc",
      "metadata": {
        "colab": {
          "base_uri": "https://localhost:8080/"
        },
        "id": "d9600bdc",
        "outputId": "c2420e67-edc9-46ed-feba-4c2ce13e99b2"
      },
      "outputs": [
        {
          "output_type": "stream",
          "name": "stdout",
          "text": [
            "Matrix:\n",
            " [[1 2 3]\n",
            " [4 5 6]\n",
            " [7 8 9]]\n"
          ]
        }
      ],
      "source": [
        "matrix = np.arange(1, 10).reshape(3, 3)\n",
        "print(\"Matrix:\\n\", matrix)"
      ]
    },
    {
      "cell_type": "markdown",
      "source": [
        "#####8. Create 2 similar dimensional array and perform sum on them.\n"
      ],
      "metadata": {
        "id": "m0xMDKKpv8dc"
      },
      "id": "m0xMDKKpv8dc"
    },
    {
      "cell_type": "code",
      "execution_count": 27,
      "id": "f3db85fc",
      "metadata": {
        "colab": {
          "base_uri": "https://localhost:8080/"
        },
        "id": "f3db85fc",
        "outputId": "1a7507a2-2049-4931-dc6f-dcf0d1f5c874"
      },
      "outputs": [
        {
          "output_type": "stream",
          "name": "stdout",
          "text": [
            "Array Sum:\n",
            " [[ 8 10 12]\n",
            " [14 16 18]]\n"
          ]
        }
      ],
      "source": [
        "arr1 = np.array([[1, 2, 3], [4, 5, 6]])\n",
        "arr2 = np.array([[7, 8, 9], [10, 11, 12]])\n",
        "array_sum = arr1 + arr2\n",
        "print(\"Array Sum:\\n\", array_sum)"
      ]
    },
    {
      "cell_type": "markdown",
      "source": [
        "#####9. Generate the series of dates from 1st Feb, 2023 to 1st March, 2023 (both inclusive)"
      ],
      "metadata": {
        "id": "zdZxnhcpwHs0"
      },
      "id": "zdZxnhcpwHs0"
    },
    {
      "cell_type": "code",
      "execution_count": 28,
      "id": "c419f9e8",
      "metadata": {
        "colab": {
          "base_uri": "https://localhost:8080/"
        },
        "id": "c419f9e8",
        "outputId": "d989334d-0545-4ddd-b2a9-2055f0a51119"
      },
      "outputs": [
        {
          "output_type": "stream",
          "name": "stdout",
          "text": [
            "DatetimeIndex(['2023-02-01', '2023-02-02', '2023-02-03', '2023-02-04',\n",
            "               '2023-02-05', '2023-02-06', '2023-02-07', '2023-02-08',\n",
            "               '2023-02-09', '2023-02-10', '2023-02-11', '2023-02-12',\n",
            "               '2023-02-13', '2023-02-14', '2023-02-15', '2023-02-16',\n",
            "               '2023-02-17', '2023-02-18', '2023-02-19', '2023-02-20',\n",
            "               '2023-02-21', '2023-02-22', '2023-02-23', '2023-02-24',\n",
            "               '2023-02-25', '2023-02-26', '2023-02-27', '2023-02-28',\n",
            "               '2023-03-01'],\n",
            "              dtype='datetime64[ns]', freq='D')\n"
          ]
        }
      ],
      "source": [
        "dates = pd.date_range('2023-02-01', '2023-03-01')\n",
        "print(dates)"
      ]
    },
    {
      "cell_type": "markdown",
      "source": [
        "#####10. Given a dictionary, convert it into corresponding dataframe and display it dictionary = {'Brand': ['Maruti', 'Renault', 'Hyndai'], 'Sales' : [250, 200, 240]}"
      ],
      "metadata": {
        "id": "ToRN5hqnxYl8"
      },
      "id": "ToRN5hqnxYl8"
    },
    {
      "cell_type": "code",
      "execution_count": 29,
      "id": "2966c2a0",
      "metadata": {
        "colab": {
          "base_uri": "https://localhost:8080/"
        },
        "id": "2966c2a0",
        "outputId": "05f4bf78-6d8b-4e08-cd1c-a7e1af0f3b79"
      },
      "outputs": [
        {
          "output_type": "stream",
          "name": "stdout",
          "text": [
            "     Brand  Sales\n",
            "0   Maruti    250\n",
            "1  Renault    200\n",
            "2  Hyundai    240\n"
          ]
        }
      ],
      "source": [
        "dictionary = {'Brand': ['Maruti', 'Renault', 'Hyundai'], 'Sales' : [250, 200, 240]}\n",
        "dataframe = pd.DataFrame(dictionary)\n",
        "print(dataframe)"
      ]
    }
  ],
  "metadata": {
    "kernelspec": {
      "display_name": "Python 3 (ipykernel)",
      "language": "python",
      "name": "python3"
    },
    "language_info": {
      "codemirror_mode": {
        "name": "ipython",
        "version": 3
      },
      "file_extension": ".py",
      "mimetype": "text/x-python",
      "name": "python",
      "nbconvert_exporter": "python",
      "pygments_lexer": "ipython3",
      "version": "3.11.3"
    },
    "colab": {
      "provenance": []
    }
  },
  "nbformat": 4,
  "nbformat_minor": 5
}